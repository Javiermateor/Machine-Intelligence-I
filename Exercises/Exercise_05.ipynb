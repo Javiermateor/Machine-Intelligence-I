{
 "cells": [
  {
   "cell_type": "code",
   "execution_count": 1,
   "metadata": {},
   "outputs": [],
   "source": [
    "import numpy as np\n",
    "import matplotlib.pyplot as plt\n",
    "import pandas as pd\n",
    "import seaborn as sns\n",
    "import math\n",
    "from scipy import linalg as LA"
   ]
  },
  {
   "cell_type": "markdown",
   "metadata": {},
   "source": [
    "### H5.1: Cross-validation\n",
    "The file TrainingRidge.csv contains the training set, with 200 observations and corre-\n",
    "sponding target values (ground truth/labels) {(x(α),y(α))}. The two input variables for each T\n",
    "observation x(α) = (x(α), x(α))⊤ appear in the first 2 columns. The target values y(α) appear in\n",
    "the last column.\n",
    "\n",
    "The data contained in the second file ValidationRidge.csv serves as the validation set.\n",
    "It follows the same format as above. The validation set contains 1476 pairs {(x(β), y(β))}. The\n",
    "values of x(β) = (x(β), x(β))⊤ form a 36 × 41 grid in input space."
   ]
  },
  {
   "cell_type": "code",
   "execution_count": null,
   "metadata": {},
   "outputs": [],
   "source": []
  }
 ],
 "metadata": {
  "kernelspec": {
   "display_name": "Python 3.8.11 ('base')",
   "language": "python",
   "name": "python3"
  },
  "language_info": {
   "codemirror_mode": {
    "name": "ipython",
    "version": 3
   },
   "file_extension": ".py",
   "mimetype": "text/x-python",
   "name": "python",
   "nbconvert_exporter": "python",
   "pygments_lexer": "ipython3",
   "version": "3.8.11"
  },
  "orig_nbformat": 4,
  "vscode": {
   "interpreter": {
    "hash": "4d2737aaab1f227d605e973e92dd7517b924c0423a88572cd91d229377dc309c"
   }
  }
 },
 "nbformat": 4,
 "nbformat_minor": 2
}
