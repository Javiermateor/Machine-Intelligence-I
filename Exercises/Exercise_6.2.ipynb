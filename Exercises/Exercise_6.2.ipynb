{
 "cells": [
  {
   "cell_type": "code",
   "execution_count": 9,
   "metadata": {},
   "outputs": [],
   "source": [
    "import numpy as np\n",
    "import matplotlib.pyplot as plt\n",
    "import pandas as pd\n",
    "import seaborn as sns\n",
    "import tensorflow as tf\n",
    "from tensorflow import keras"
   ]
  },
  {
   "cell_type": "markdown",
   "metadata": {},
   "source": [
    "### Exercise H62.1: Long short-term memory (LSTM)"
   ]
  },
  {
   "cell_type": "markdown",
   "metadata": {},
   "source": [
    "In this exercise we will use an LSTM for classifying a simple number series. The goal is to detect whether the sum of all the elements in the series is greater or equal to 100 (=class 1) or less (=class 0)."
   ]
  },
  {
   "cell_type": "markdown",
   "metadata": {},
   "source": [
    "(a) Create the train and validation data as follows:\n",
    "* Draw 10,000 different series, each consisting of 30 integer numbers (i.e. digits) from 0 to 9, where each digit is uniformly distributed and independent from the others, that is $ x1^\\alpha\\,...., x30^\\alpha\\ ∈ { 0,1,.... 9}^ (30) $\n",
    "* A series gets the label 1 if its sum is greater or equal to 100 and the label 0 otherwise.\n",
    "* Use 8,000 series as training set and 2,000 series as your validation set.\n"
   ]
  },
  {
   "cell_type": "code",
   "execution_count": 2,
   "metadata": {},
   "outputs": [],
   "source": [
    "#create 10000 samples of 30 integer numbers from 0 to 9, where each digit is uniformly distributed and independent from the others\n",
    "\n",
    "# Hint: use np.random.randint\n",
    "series = np.random.randint(0, 10, (10000, 30))\n",
    "\n",
    "# Check the sum of the digits \n",
    "sum = np.sum(series, axis=1)\n",
    "label = np.where(sum >= 100, 1, 0)\n",
    "\n",
    "# Create an array with the series and the label\n",
    "data = np.column_stack((series, label))\n",
    "\n",
    "# Training and test data\n",
    "x_train, y_train = data[:8000, :-1], data[:8000, -1]\n",
    "x_test, y_test = data[8000:, :-1], data[8000:, -1]"
   ]
  },
  {
   "cell_type": "markdown",
   "metadata": {},
   "source": [
    "Build a recurrent network for number series classification as follows:\n",
    "* The network is composed of 200 LSTM cells yielding an output vector h(t) in each time step t of the 30 time steps within a sequence.\n",
    "* On top of the LSTM layer there is a single linear output neuron (receiving input from the 200 LSTM cells. The output neuron uses the logistic sigmoidal as its non-linearity,\n",
    "i.e, y(h(t)) ∈ (0, 1). y(h(30)). The output neuron’s activity should be interpreted as the probability that the sum of the number series is greater or equal to 100.\n",
    "Hints for Keras users: Apply a Dense layer with one output neuron and sigmoid activation after the LSTM layer."
   ]
  },
  {
   "cell_type": "code",
   "execution_count": 18,
   "metadata": {},
   "outputs": [],
   "source": [
    "# create a long short-term memory network\n",
    "from keras.models import Sequential\n",
    "from keras.layers import Dense\n",
    "from keras.layers import LSTM\n",
    "from keras.layers import Dropout\n",
    "\n",
    "# Initialising the RNN\n",
    "regressor = Sequential()\n",
    "\n",
    "# Adding the first LSTM layer and some Dropout regularisation\n",
    "regressor.add(LSTM(units = 50, return_sequences = True, input_shape = (x_train.shape[1], 1)))\n",
    "regressor.add(Dropout(0.2))\n",
    "\n",
    "# Adding a second LSTM layer and some Dropout regularisation\n",
    "regressor.add(LSTM(units = 50, return_sequences = True))\n",
    "regressor.add(Dropout(0.2))\n",
    "\n",
    "# Adding a third LSTM layer and some Dropout regularisation\n",
    "regressor.add(LSTM(units = 50, return_sequences = True))\n",
    "regressor.add(Dropout(0.2))\n",
    "\n",
    "# Adding a fourth LSTM layer and some Dropout regularisation\n",
    "regressor.add(LSTM(units = 50))\n",
    "regressor.add(Dropout(0.2))\n",
    "\n",
    "# Adding the output layer\n",
    "regressor.add(Dense(units = 1))\n",
    "\n",
    "# Compiling the RNN\n",
    "regressor.compile(\n",
    "    optimizer= keras.optimizers.Adam(learning_rate=0.01, beta_1=0.9, beta_2=0.999, epsilon=1e-08, amsgrad=False, name='Adam'),\n",
    "    loss = 'binary_crossentropy',\n",
    "    metrics=['accuracy']\n",
    ")\n",
    "\n",
    "# Fitting the RNN to the Training set\n",
    "histoy_regressor = regressor.fit(x_train, y_train, epochs = 60, batch_size = 50, verbose=False )"
   ]
  },
  {
   "cell_type": "code",
   "execution_count": 20,
   "metadata": {},
   "outputs": [
    {
     "name": "stderr",
     "output_type": "stream",
     "text": [
      "/var/folders/qg/bvmbx8kx66v9dn0hmz5f07780000gq/T/ipykernel_45644/2157335516.py:3: MatplotlibDeprecationWarning: The seaborn styles shipped by Matplotlib are deprecated since 3.6, as they no longer correspond to the styles shipped by seaborn. However, they will remain available as 'seaborn-v0_8-<style>'. Alternatively, directly use the seaborn API instead.\n",
      "  plt.style.use('seaborn')\n"
     ]
    },
    {
     "data": {
      "image/png": "[encoded data removed]",
      "text/plain": [
       "<Figure size 800x550 with 1 Axes>"
      ]
     },
     "metadata": {},
     "output_type": "display_data"
    }
   ],
   "source": [
    "\n",
    "#plot the loss and accuracy\n",
    "\n",
    "plt.style.use('seaborn')\n",
    "\n",
    "plt.plot(histoy_regressor.history['loss'])\n",
    "plt.plot(histoy_regressor.history['accuracy'])\n",
    "plt.title('model loss')\n",
    "plt.ylabel('loss')\n",
    "plt.xlabel('epoch')\n",
    "plt.legend(['loss', 'accuracy'])\n",
    "plt.show()"
   ]
  }
 ],
 "metadata": {
  "kernelspec": {
   "display_name": "Python 3.9.2 ('machine': venv)",
   "language": "python",
   "name": "python3"
  },
  "language_info": {
   "codemirror_mode": {
    "name": "ipython",
    "version": 3
   },
   "file_extension": ".py",
   "mimetype": "text/x-python",
   "name": "python",
   "nbconvert_exporter": "python",
   "pygments_lexer": "ipython3",
   "version": "3.9.2"
  },
  "orig_nbformat": 4,
  "vscode": {
   "interpreter": {
    "hash": "f53b39e0f9677ef5a395e0b91edf7e2ffb3ec04b153f4bd3da73beb5ff8d2d06"
   }
  }
 },
 "nbformat": 4,
 "nbformat_minor": 2
}
