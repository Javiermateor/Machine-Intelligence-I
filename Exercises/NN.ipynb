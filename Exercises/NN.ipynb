{
 "cells": [
  {
   "cell_type": "code",
   "execution_count": 1,
   "metadata": {},
   "outputs": [
    {
     "name": "stderr",
     "output_type": "stream",
     "text": [
      "2022-12-20 21:08:30.628500: I tensorflow/core/platform/cpu_feature_guard.cc:193] This TensorFlow binary is optimized with oneAPI Deep Neural Network Library (oneDNN) to use the following CPU instructions in performance-critical operations:  AVX2 FMA\n",
      "To enable them in other operations, rebuild TensorFlow with the appropriate compiler flags.\n"
     ]
    }
   ],
   "source": [
    "import numpy as np\n",
    "import matplotlib.pyplot as plt\n",
    "import pandas as pd\n",
    "import seaborn as sns\n",
    "import tensorflow as tf\n",
    "from tensorflow import keras"
   ]
  },
  {
   "cell_type": "code",
   "execution_count": 4,
   "metadata": {},
   "outputs": [
    {
     "data": {
      "text/plain": [
       "['I', 'love', 'recurrent', 'neural']"
      ]
     },
     "execution_count": 4,
     "metadata": {},
     "output_type": "execute_result"
    }
   ],
   "source": [
    "# my_rnn = RNN()\n",
    "hidden_state = [0, 0, 0, 0]\n",
    "\n",
    "sentence = \"I love recurrent neural\".split()\n",
    "\n",
    "for word in sentence:\n",
    "    prediction, hidden_state = my_rnn.forward(word, hidden_state)\n",
    "    \n",
    "next_word_prediction = prediction"
   ]
  },
  {
   "cell_type": "code",
   "execution_count": 6,
   "metadata": {},
   "outputs": [],
   "source": [
    "class myRNNcell(tf.keras.layers.Layer):\n",
    "    def __init__(self, rnn_units, input_dim, output_dim):\n",
    "        super(myRNNcell, self).__init__()\n",
    "        \n",
    "        # Initialize weight matrices \n",
    "        \n",
    "        self.W_xh = self.add.weight([rnn_units, input_dim])\n",
    "        self.W_hh = self.add.weight([rnn_units, rnn_units])\n",
    "        self.W_hy = self.add.weight([output_dim, rnn_units])\n",
    "        \n",
    "        # Initialize bias vectors\n",
    "    \n",
    "        self.b_h = self.add.weight([rnn_units, 1])\n",
    "        self.b_y = self.add.weight([output_dim, 1])\n",
    "\n",
    "        # Initialize hidden state to zeros \n",
    "        self.h = tf.zeros([rnn_units, 1])\n",
    "        \n",
    "    def call(self, x):\n",
    "        #Update the hidden state \n",
    "        self.h = tf.math.tanh( self.W_hh * self.h + self.W_xh * x)\n",
    "        \n",
    "        # Compute the output\n",
    "        output = self.W_hy * self.h \n",
    "        \n",
    "        #Return the hidden output and hidden state\n",
    "        \n",
    "        return output, self.h"
   ]
  },
  {
   "cell_type": "code",
   "execution_count": 1,
   "metadata": {},
   "outputs": [
    {
     "ename": "ValueError",
     "evalue": "'notebookagg' is not a valid value for backend; supported values are ['GTK3Agg', 'GTK3Cairo', 'GTK4Agg', 'GTK4Cairo', 'MacOSX', 'nbAgg', 'QtAgg', 'QtCairo', 'Qt5Agg', 'Qt5Cairo', 'TkAgg', 'TkCairo', 'WebAgg', 'WX', 'WXAgg', 'WXCairo', 'agg', 'cairo', 'pdf', 'pgf', 'ps', 'svg', 'template']",
     "output_type": "error",
     "traceback": [
      "\u001b[0;31m---------------------------------------------------------------------------\u001b[0m",
      "\u001b[0;31mValueError\u001b[0m                                Traceback (most recent call last)",
      "Cell \u001b[0;32mIn[1], line 5\u001b[0m\n\u001b[1;32m      2\u001b[0m \u001b[39mfrom\u001b[39;00m \u001b[39mscipy\u001b[39;00m\u001b[39m.\u001b[39;00m\u001b[39minterpolate\u001b[39;00m \u001b[39mimport\u001b[39;00m Rbf\n\u001b[1;32m      4\u001b[0m \u001b[39mimport\u001b[39;00m \u001b[39mmatplotlib\u001b[39;00m\n\u001b[0;32m----> 5\u001b[0m matplotlib\u001b[39m.\u001b[39;49muse(\u001b[39m'\u001b[39;49m\u001b[39mnotebookagg\u001b[39;49m\u001b[39m'\u001b[39;49m)\n\u001b[1;32m      6\u001b[0m \u001b[39mimport\u001b[39;00m \u001b[39mmatplotlib\u001b[39;00m\u001b[39m.\u001b[39;00m\u001b[39mpyplot\u001b[39;00m \u001b[39mas\u001b[39;00m \u001b[39mplt\u001b[39;00m\n\u001b[1;32m      7\u001b[0m \u001b[39mfrom\u001b[39;00m \u001b[39mmatplotlib\u001b[39;00m \u001b[39mimport\u001b[39;00m cm\n",
      "File \u001b[0;32m~/Desktop/TU/Viertes_Semester/Machine_Intelligence_I/Original/Machine-Intelligence-I/machine/lib/python3.9/site-packages/matplotlib/__init__.py:1140\u001b[0m, in \u001b[0;36muse\u001b[0;34m(backend, force)\u001b[0m\n\u001b[1;32m   1105\u001b[0m \u001b[39mdef\u001b[39;00m \u001b[39muse\u001b[39m(backend, \u001b[39m*\u001b[39m, force\u001b[39m=\u001b[39m\u001b[39mTrue\u001b[39;00m):\n\u001b[1;32m   1106\u001b[0m     \u001b[39m\"\"\"\u001b[39;00m\n\u001b[1;32m   1107\u001b[0m \u001b[39m    Select the backend used for rendering and GUI integration.\u001b[39;00m\n\u001b[1;32m   1108\u001b[0m \n\u001b[0;32m   (...)\u001b[0m\n\u001b[1;32m   1138\u001b[0m \u001b[39m    matplotlib.get_backend\u001b[39;00m\n\u001b[1;32m   1139\u001b[0m \u001b[39m    \"\"\"\u001b[39;00m\n\u001b[0;32m-> 1140\u001b[0m     name \u001b[39m=\u001b[39m validate_backend(backend)\n\u001b[1;32m   1141\u001b[0m     \u001b[39m# don't (prematurely) resolve the \"auto\" backend setting\u001b[39;00m\n\u001b[1;32m   1142\u001b[0m     \u001b[39mif\u001b[39;00m rcParams\u001b[39m.\u001b[39m_get_backend_or_none() \u001b[39m==\u001b[39m name:\n\u001b[1;32m   1143\u001b[0m         \u001b[39m# Nothing to do if the requested backend is already set\u001b[39;00m\n",
      "File \u001b[0;32m~/Desktop/TU/Viertes_Semester/Machine_Intelligence_I/Original/Machine-Intelligence-I/machine/lib/python3.9/site-packages/matplotlib/rcsetup.py:255\u001b[0m, in \u001b[0;36mvalidate_backend\u001b[0;34m(s)\u001b[0m\n\u001b[1;32m    252\u001b[0m \u001b[39mdef\u001b[39;00m \u001b[39mvalidate_backend\u001b[39m(s):\n\u001b[1;32m    253\u001b[0m     backend \u001b[39m=\u001b[39m (\n\u001b[1;32m    254\u001b[0m         s \u001b[39mif\u001b[39;00m s \u001b[39mis\u001b[39;00m _auto_backend_sentinel \u001b[39mor\u001b[39;00m s\u001b[39m.\u001b[39mstartswith(\u001b[39m\"\u001b[39m\u001b[39mmodule://\u001b[39m\u001b[39m\"\u001b[39m)\n\u001b[0;32m--> 255\u001b[0m         \u001b[39melse\u001b[39;00m _validate_standard_backends(s))\n\u001b[1;32m    256\u001b[0m     \u001b[39mreturn\u001b[39;00m backend\n",
      "File \u001b[0;32m~/Desktop/TU/Viertes_Semester/Machine_Intelligence_I/Original/Machine-Intelligence-I/machine/lib/python3.9/site-packages/matplotlib/rcsetup.py:82\u001b[0m, in \u001b[0;36mValidateInStrings.__call__\u001b[0;34m(self, s)\u001b[0m\n\u001b[1;32m     77\u001b[0m \u001b[39mif\u001b[39;00m (\u001b[39misinstance\u001b[39m(s, \u001b[39mstr\u001b[39m)\n\u001b[1;32m     78\u001b[0m         \u001b[39mand\u001b[39;00m (s\u001b[39m.\u001b[39mstartswith(\u001b[39m'\u001b[39m\u001b[39m\"\u001b[39m\u001b[39m'\u001b[39m) \u001b[39mand\u001b[39;00m s\u001b[39m.\u001b[39mendswith(\u001b[39m'\u001b[39m\u001b[39m\"\u001b[39m\u001b[39m'\u001b[39m)\n\u001b[1;32m     79\u001b[0m              \u001b[39mor\u001b[39;00m s\u001b[39m.\u001b[39mstartswith(\u001b[39m\"\u001b[39m\u001b[39m'\u001b[39m\u001b[39m\"\u001b[39m) \u001b[39mand\u001b[39;00m s\u001b[39m.\u001b[39mendswith(\u001b[39m\"\u001b[39m\u001b[39m'\u001b[39m\u001b[39m\"\u001b[39m))\n\u001b[1;32m     80\u001b[0m         \u001b[39mand\u001b[39;00m s[\u001b[39m1\u001b[39m:\u001b[39m-\u001b[39m\u001b[39m1\u001b[39m] \u001b[39min\u001b[39;00m \u001b[39mself\u001b[39m\u001b[39m.\u001b[39mvalid):\n\u001b[1;32m     81\u001b[0m     msg \u001b[39m+\u001b[39m\u001b[39m=\u001b[39m \u001b[39m\"\u001b[39m\u001b[39m; remove quotes surrounding your string\u001b[39m\u001b[39m\"\u001b[39m\n\u001b[0;32m---> 82\u001b[0m \u001b[39mraise\u001b[39;00m \u001b[39mValueError\u001b[39;00m(msg)\n",
      "\u001b[0;31mValueError\u001b[0m: 'notebookagg' is not a valid value for backend; supported values are ['GTK3Agg', 'GTK3Cairo', 'GTK4Agg', 'GTK4Cairo', 'MacOSX', 'nbAgg', 'QtAgg', 'QtCairo', 'Qt5Agg', 'Qt5Cairo', 'TkAgg', 'TkCairo', 'WebAgg', 'WX', 'WXAgg', 'WXCairo', 'agg', 'cairo', 'pdf', 'pgf', 'ps', 'svg', 'template']"
     ]
    }
   ],
   "source": [
    "import numpy as np\n",
    "from scipy.interpolate import Rbf\n",
    "\n",
    "import matplotlib\n",
    "matplotlib.use('notebookagg')\n",
    "import matplotlib.pyplot as plt\n",
    "from matplotlib import cm\n",
    "\n",
    "# 2-d tests - setup scattered data\n",
    "x = np.random.rand(100)*4.0-2.0\n",
    "y = np.random.rand(100)*4.0-2.0\n",
    "z = x*np.exp(-x**2-y**2)\n",
    "ti = np.linspace(-2.0, 2.0, 100)\n",
    "XI, YI = np.meshgrid(ti, ti)\n",
    "\n",
    "# use RBF\n",
    "rbf = Rbf(x, y, z, epsilon=2)\n",
    "ZI = rbf(XI, YI)\n",
    "\n",
    "# plot the result\n",
    "# n = plt.normalize(-2., 2.)\n",
    "plt.subplot(1, 1, 1)\n",
    "plt.pcolor(XI, YI, ZI, cmap=cm.jet)\n",
    "plt.scatter(x, y, 100, z, cmap=cm.jet)\n",
    "plt.title('RBF interpolation - multiquadrics')\n",
    "plt.xlim(-2, 2)\n",
    "plt.ylim(-2, 2)\n",
    "plt.colorbar()\n",
    "plt.show()"
   ]
  }
 ],
 "metadata": {
  "kernelspec": {
   "display_name": "machine",
   "language": "python",
   "name": "python3"
  },
  "language_info": {
   "codemirror_mode": {
    "name": "ipython",
    "version": 3
   },
   "file_extension": ".py",
   "mimetype": "text/x-python",
   "name": "python",
   "nbconvert_exporter": "python",
   "pygments_lexer": "ipython3",
   "version": "3.9.2"
  },
  "orig_nbformat": 4,
  "vscode": {
   "interpreter": {
    "hash": "f53b39e0f9677ef5a395e0b91edf7e2ffb3ec04b153f4bd3da73beb5ff8d2d06"
   }
  }
 },
 "nbformat": 4,
 "nbformat_minor": 2
}
